{
  "cells": [
    {
      "cell_type": "code",
      "execution_count": null,
      "metadata": {
        "id": "bw0nuvfQTedk"
      },
      "outputs": [],
      "source": [
        "import torch\n",
        "from torch import nn\n",
        "from torch.utils.data import DataLoader, Subset\n",
        "from torchvision import datasets, transforms\n",
        "from sklearn.model_selection import train_test_split\n",
        "import matplotlib.pyplot as plt"
      ]
    },
    {
      "cell_type": "code",
      "execution_count": null,
      "metadata": {
        "colab": {
          "base_uri": "https://localhost:8080/"
        },
        "id": "o7JhScndTf45",
        "outputId": "2bdcda8b-92d7-42da-f95a-a8c9306bacea"
      },
      "outputs": [
        {
          "name": "stdout",
          "output_type": "stream",
          "text": [
            "Downloading http://yann.lecun.com/exdb/mnist/train-images-idx3-ubyte.gz\n",
            "Downloading http://yann.lecun.com/exdb/mnist/train-images-idx3-ubyte.gz to ./mnist/train/MNIST/raw/train-images-idx3-ubyte.gz\n"
          ]
        },
        {
          "name": "stderr",
          "output_type": "stream",
          "text": [
            "100%|██████████| 9912422/9912422 [00:00<00:00, 126155976.32it/s]\n"
          ]
        },
        {
          "name": "stdout",
          "output_type": "stream",
          "text": [
            "Extracting ./mnist/train/MNIST/raw/train-images-idx3-ubyte.gz to ./mnist/train/MNIST/raw\n",
            "\n",
            "Downloading http://yann.lecun.com/exdb/mnist/train-labels-idx1-ubyte.gz\n",
            "Downloading http://yann.lecun.com/exdb/mnist/train-labels-idx1-ubyte.gz to ./mnist/train/MNIST/raw/train-labels-idx1-ubyte.gz\n"
          ]
        },
        {
          "name": "stderr",
          "output_type": "stream",
          "text": [
            "100%|██████████| 28881/28881 [00:00<00:00, 33592815.81it/s]\n"
          ]
        },
        {
          "name": "stdout",
          "output_type": "stream",
          "text": [
            "Extracting ./mnist/train/MNIST/raw/train-labels-idx1-ubyte.gz to ./mnist/train/MNIST/raw\n",
            "\n",
            "Downloading http://yann.lecun.com/exdb/mnist/t10k-images-idx3-ubyte.gz\n",
            "Downloading http://yann.lecun.com/exdb/mnist/t10k-images-idx3-ubyte.gz to ./mnist/train/MNIST/raw/t10k-images-idx3-ubyte.gz\n"
          ]
        },
        {
          "name": "stderr",
          "output_type": "stream",
          "text": [
            "100%|██████████| 1648877/1648877 [00:00<00:00, 15838705.12it/s]\n"
          ]
        },
        {
          "name": "stdout",
          "output_type": "stream",
          "text": [
            "Extracting ./mnist/train/MNIST/raw/t10k-images-idx3-ubyte.gz to ./mnist/train/MNIST/raw\n",
            "\n",
            "Downloading http://yann.lecun.com/exdb/mnist/t10k-labels-idx1-ubyte.gz\n",
            "Downloading http://yann.lecun.com/exdb/mnist/t10k-labels-idx1-ubyte.gz to ./mnist/train/MNIST/raw/t10k-labels-idx1-ubyte.gz\n"
          ]
        },
        {
          "name": "stderr",
          "output_type": "stream",
          "text": [
            "100%|██████████| 4542/4542 [00:00<00:00, 16199429.22it/s]\n"
          ]
        },
        {
          "name": "stdout",
          "output_type": "stream",
          "text": [
            "Extracting ./mnist/train/MNIST/raw/t10k-labels-idx1-ubyte.gz to ./mnist/train/MNIST/raw\n",
            "\n",
            "Downloading http://yann.lecun.com/exdb/mnist/train-images-idx3-ubyte.gz\n",
            "Downloading http://yann.lecun.com/exdb/mnist/train-images-idx3-ubyte.gz to ./mnist/test/MNIST/raw/train-images-idx3-ubyte.gz\n"
          ]
        },
        {
          "name": "stderr",
          "output_type": "stream",
          "text": [
            "100%|██████████| 9912422/9912422 [00:00<00:00, 131900963.33it/s]"
          ]
        },
        {
          "name": "stdout",
          "output_type": "stream",
          "text": [
            "Extracting ./mnist/test/MNIST/raw/train-images-idx3-ubyte.gz to ./mnist/test/MNIST/raw\n"
          ]
        },
        {
          "name": "stderr",
          "output_type": "stream",
          "text": [
            "\n"
          ]
        },
        {
          "name": "stdout",
          "output_type": "stream",
          "text": [
            "\n",
            "Downloading http://yann.lecun.com/exdb/mnist/train-labels-idx1-ubyte.gz\n",
            "Downloading http://yann.lecun.com/exdb/mnist/train-labels-idx1-ubyte.gz to ./mnist/test/MNIST/raw/train-labels-idx1-ubyte.gz\n"
          ]
        },
        {
          "name": "stderr",
          "output_type": "stream",
          "text": [
            "100%|██████████| 28881/28881 [00:00<00:00, 30713918.31it/s]\n"
          ]
        },
        {
          "name": "stdout",
          "output_type": "stream",
          "text": [
            "Extracting ./mnist/test/MNIST/raw/train-labels-idx1-ubyte.gz to ./mnist/test/MNIST/raw\n",
            "\n",
            "Downloading http://yann.lecun.com/exdb/mnist/t10k-images-idx3-ubyte.gz\n",
            "Downloading http://yann.lecun.com/exdb/mnist/t10k-images-idx3-ubyte.gz to ./mnist/test/MNIST/raw/t10k-images-idx3-ubyte.gz\n"
          ]
        },
        {
          "name": "stderr",
          "output_type": "stream",
          "text": [
            "100%|██████████| 1648877/1648877 [00:00<00:00, 32469431.01it/s]\n"
          ]
        },
        {
          "name": "stdout",
          "output_type": "stream",
          "text": [
            "Extracting ./mnist/test/MNIST/raw/t10k-images-idx3-ubyte.gz to ./mnist/test/MNIST/raw\n",
            "\n",
            "Downloading http://yann.lecun.com/exdb/mnist/t10k-labels-idx1-ubyte.gz\n",
            "Downloading http://yann.lecun.com/exdb/mnist/t10k-labels-idx1-ubyte.gz to ./mnist/test/MNIST/raw/t10k-labels-idx1-ubyte.gz\n"
          ]
        },
        {
          "name": "stderr",
          "output_type": "stream",
          "text": [
            "100%|██████████| 4542/4542 [00:00<00:00, 12700352.51it/s]"
          ]
        },
        {
          "name": "stdout",
          "output_type": "stream",
          "text": [
            "Extracting ./mnist/test/MNIST/raw/t10k-labels-idx1-ubyte.gz to ./mnist/test/MNIST/raw\n",
            "\n"
          ]
        },
        {
          "name": "stderr",
          "output_type": "stream",
          "text": [
            "\n"
          ]
        }
      ],
      "source": [
        "# load datasets\n",
        "train_set = datasets.MNIST(\"./mnist/train\", train=True, transform=transforms.ToTensor(), download=True)\n",
        "test_set = datasets.MNIST(\"./mnist/test\", train=False, transform=transforms.ToTensor(), download=True)"
      ]
    },
    {
      "cell_type": "code",
      "execution_count": null,
      "metadata": {
        "id": "A8pqIfQkTql6"
      },
      "outputs": [],
      "source": [
        "# generate indices: instead of the actual data we pass in integers instead\n",
        "train_indices, val_indices, _, _ = train_test_split(\n",
        "    range(len(train_set)),\n",
        "    train_set.targets,\n",
        "    stratify=train_set.targets,\n",
        "    train_size=0.8,\n",
        ")\n",
        "\n",
        "# generate subset based on indices\n",
        "train_split = Subset(train_set, train_indices)\n",
        "val_split = Subset(train_set, val_indices)"
      ]
    },
    {
      "cell_type": "code",
      "execution_count": null,
      "metadata": {
        "id": "LUeWNiZwVUDv"
      },
      "outputs": [],
      "source": [
        "train_loader = DataLoader(train_split, batch_size=128)\n",
        "val_loader = DataLoader(val_split, batch_size=128)\n",
        "test_loader = DataLoader(test_set, batch_size=128)"
      ]
    },
    {
      "cell_type": "code",
      "execution_count": null,
      "metadata": {
        "id": "pvMfrWf1VZWl"
      },
      "outputs": [],
      "source": [
        "device = torch.device('cuda' if torch.cuda.is_available() else 'cpu')"
      ]
    },
    {
      "cell_type": "code",
      "execution_count": null,
      "metadata": {
        "id": "mhBShSjuVbeD"
      },
      "outputs": [],
      "source": [
        "# Define the model\n",
        "class CNN(nn.Module):\n",
        "  def __init__(self, output_size):\n",
        "    super(CNN, self).__init__()\n",
        "    \"\"\"\n",
        "        Begining of of Implement\n",
        "        1. Implement self.conv1/2/3, self.pool1/2/3 with channel numbers 16, 32, 64 respectively, using kernel sizes 3, 4, 2 respectively (stride=1 and padding=0).\n",
        "        2. Use MaxPool with a shape of (2, 2) for self.pool1/2/3.\n",
        "        3. Add a hidden linear layer with 1000 neurons before the output layer.\n",
        "        4. Set self.output as the softmax operator.\n",
        "    \"\"\"\n",
        "\n",
        "    self.conv1 = nn.Conv2d(in_channels=1, out_channels=16, kernel_size=3, stride=1, padding=0)\n",
        "    self.pool1 = nn.MaxPool2d(2, 2)\n",
        "\n",
        "    self.conv2 = nn.Conv2d(in_channels=16, out_channels=32, kernel_size=4, stride=1, padding=0)\n",
        "    self.pool2 = nn.MaxPool2d(2, 2)\n",
        "\n",
        "    self.conv3 = nn.Conv2d(in_channels=32, out_channels=64, kernel_size=2, stride=1, padding=0)\n",
        "    self.pool3 = nn.MaxPool2d(2, 2)\n",
        "\n",
        "    self.fc1 = nn.Linear(in_features=256, out_features=1000)\n",
        "    self.fc2 = nn.Linear(in_features=1000, out_features=10)\n",
        "\n",
        "    self.output = nn.Softmax(dim=1)\n",
        "\n",
        "    \"\"\"\n",
        "        End of Implement\n",
        "    \"\"\"\n",
        "\n",
        "\n",
        "  def forward(self, x):\n",
        "    batchsize = x.shape[0]\n",
        "    \"\"\"\n",
        "        Begining of of Implement\n",
        "        excecute the forward step:\n",
        "        1. Use ReLU activation after convolution and before pooling.\n",
        "        2. Reshape the data before feeding it into the linear layer.\n",
        "        3. Output the results using self.output.\n",
        "\n",
        "    \"\"\"\n",
        "\n",
        "    x = self.conv1(x)\n",
        "    x = nn.functional.relu(x)\n",
        "    x = self.pool1(x)\n",
        "\n",
        "    x = self.conv2(x)\n",
        "    x = nn.functional.relu(x)\n",
        "    x = self.pool2(x)\n",
        "\n",
        "    x = self.conv3(x)\n",
        "    x = nn.functional.relu(x)\n",
        "    x = self.pool3(x)\n",
        "\n",
        "    x = torch.flatten(x, 1)\n",
        "\n",
        "    x = self.fc1(x)\n",
        "    x = nn.functional.relu(x)\n",
        "    x = self.fc2(x)\n",
        "\n",
        "\n",
        "    x = self.output(x)\n",
        "    return x\n",
        "\n",
        "    \"\"\"\n",
        "        End of Implement\n",
        "    \"\"\""
      ]
    },
    {
      "cell_type": "code",
      "execution_count": null,
      "metadata": {
        "id": "_t7XHUuoXlZz"
      },
      "outputs": [],
      "source": [
        "# Training function\n",
        "def train(model, criterion, optimizer, train_loader, val_loader, n_epochs):\n",
        "    train_acc, val_acc = [], []\n",
        "    for epoch in range(n_epochs):\n",
        "        # Training\n",
        "        model.train()\n",
        "        correct, total = 0, 0\n",
        "        for idx, (inputs, labels) in enumerate(train_loader):\n",
        "            inputs, labels = inputs.to(device), labels.to(device)\n",
        "\n",
        "            \"\"\"\n",
        "            Begining of of Implement\n",
        "            excecute the forward computation:\n",
        "            1. get the model outputs -> variable 'outputs';\n",
        "            2. change the format of labels to one hot -> variable 'labels_onehot';\n",
        "            3. compute loss -> variable 'loss'\n",
        "            \"\"\"\n",
        "            outputs = model(inputs)\n",
        "\n",
        "            labels_onehot_long = nn.functional.one_hot(labels)\n",
        "            labels_onehot = labels_onehot_long.float()\n",
        "\n",
        "            loss = criterion(outputs, labels_onehot)\n",
        "\n",
        "            \"\"\"\n",
        "            End of Implement\n",
        "            \"\"\"\n",
        "\n",
        "\n",
        "\n",
        "\n",
        "\n",
        "            \"\"\"\n",
        "            Begining of of Implement\n",
        "            do the optimization step:\n",
        "            1. clean the old/previous gradient;\n",
        "            2. compute the current gradient (backward propagation)\n",
        "            3. update the parameter\n",
        "            \"\"\"\n",
        "\n",
        "            optimizer.zero_grad()\n",
        "            loss.backward()\n",
        "            optimizer.step()\n",
        "\n",
        "            \"\"\"\n",
        "            End of Implement\n",
        "            \"\"\"\n",
        "\n",
        "\n",
        "\n",
        "\n",
        "            \"\"\"\n",
        "            Begining of of Implement\n",
        "            get the predicted labels of the training data from variable 'outputs' -> variable 'predicted'\n",
        "\n",
        "            \"\"\"\n",
        "\n",
        "            _, predicted = torch.max(outputs.data, 1)\n",
        "\n",
        "            \"\"\"\n",
        "            End of Implement\n",
        "            \"\"\"\n",
        "\n",
        "            correct += (predicted == labels).sum().item()\n",
        "            total += labels.size(0)\n",
        "\n",
        "            if idx % 100 == 0:\n",
        "                print(f\"epoch: {epoch}, loss: {loss:.2f}, train_acc: {(correct/total):.2f}\")\n",
        "\n",
        "        train_acc.append(correct/total)\n",
        "\n",
        "        # Validation\n",
        "        model.eval()\n",
        "        correct, total = 0, 0\n",
        "        with torch.no_grad():\n",
        "            for inputs, labels in val_loader:\n",
        "                inputs, labels = inputs.to(device), labels.to(device)\n",
        "\n",
        "                \"\"\"\n",
        "                Begining of of Implement\n",
        "                1. get the model outputs -> variable 'outputs';\n",
        "                2. get the predicted labels -> predicted\n",
        "                \"\"\"\n",
        "\n",
        "                outputs = model(inputs)\n",
        "\n",
        "                _, predicted = torch.max(outputs.data, 1)\n",
        "\n",
        "                \"\"\"\n",
        "                End of Implement\n",
        "                \"\"\"\n",
        "\n",
        "                correct += (predicted == labels).sum().item()\n",
        "                total += labels.size(0)\n",
        "        val_acc.append(correct/total)\n",
        "\n",
        "    return train_acc, val_acc"
      ]
    },
    {
      "cell_type": "code",
      "execution_count": null,
      "metadata": {
        "id": "1x7eOqdiXqFg"
      },
      "outputs": [],
      "source": [
        "# Testing function\n",
        "def test(model, test_loader):\n",
        "    model.eval()\n",
        "    correct, total = 0, 0\n",
        "    with torch.no_grad():\n",
        "        for inputs, labels in test_loader:\n",
        "            inputs, labels = inputs.to(device), labels.to(device)\n",
        "\n",
        "            \"\"\"\n",
        "            Begining of of Implement\n",
        "            1. get the model outputs -> variable 'outputs';\n",
        "            2. get the predicted labels -> predicted\n",
        "            \"\"\"\n",
        "\n",
        "            outputs = model(inputs)\n",
        "\n",
        "            _, predicted = torch.max(outputs.data, 1)\n",
        "\n",
        "            \"\"\"\n",
        "            End of Implement\n",
        "            \"\"\"\n",
        "\n",
        "            correct += (predicted == labels).sum().item()\n",
        "            total += labels.size(0)\n",
        "    return correct/total"
      ]
    },
    {
      "cell_type": "code",
      "execution_count": null,
      "metadata": {
        "colab": {
          "base_uri": "https://localhost:8080/",
          "height": 819
        },
        "id": "etTRkB9bXs9L",
        "outputId": "19e19170-c32f-41ec-b78f-f17da2c1f925"
      },
      "outputs": [
        {
          "name": "stdout",
          "output_type": "stream",
          "text": [
            "epoch: 0, loss: 0.09, train_acc: 0.11\n",
            "epoch: 0, loss: 0.01, train_acc: 0.75\n",
            "epoch: 0, loss: 0.01, train_acc: 0.84\n",
            "epoch: 0, loss: 0.01, train_acc: 0.88\n",
            "epoch: 1, loss: 0.01, train_acc: 0.96\n",
            "epoch: 1, loss: 0.00, train_acc: 0.97\n",
            "epoch: 1, loss: 0.01, train_acc: 0.97\n",
            "epoch: 1, loss: 0.00, train_acc: 0.97\n",
            "epoch: 2, loss: 0.00, train_acc: 0.98\n",
            "epoch: 2, loss: 0.00, train_acc: 0.98\n",
            "epoch: 2, loss: 0.00, train_acc: 0.98\n",
            "epoch: 2, loss: 0.00, train_acc: 0.98\n",
            "epoch: 3, loss: 0.00, train_acc: 0.98\n",
            "epoch: 3, loss: 0.00, train_acc: 0.98\n",
            "epoch: 3, loss: 0.00, train_acc: 0.98\n",
            "epoch: 3, loss: 0.00, train_acc: 0.98\n",
            "epoch: 4, loss: 0.00, train_acc: 0.99\n",
            "epoch: 4, loss: 0.00, train_acc: 0.99\n",
            "epoch: 4, loss: 0.00, train_acc: 0.99\n",
            "epoch: 4, loss: 0.00, train_acc: 0.99\n"
          ]
        },
        {
          "data": {
            "image/png": "[encoded data removed]",
            "text/plain": [
              "<Figure size 640x480 with 1 Axes>"
            ]
          },
          "metadata": {},
          "output_type": "display_data"
        }
      ],
      "source": [
        "# Hyperparameters\n",
        "output_size = 10\n",
        "n_epochs = 5\n",
        "lr = 0.001\n",
        "\n",
        "# Training, Validation, and Testing\n",
        "model = CNN(output_size).to(device)\n",
        "criterion = nn.MSELoss()\n",
        "optimizer = torch.optim.Adam(model.parameters(), lr=lr)\n",
        "train_acc, val_acc = train(model, criterion, optimizer, train_loader, val_loader, n_epochs)\n",
        "test_acc = test(model, test_loader)\n",
        "plt.plot(train_acc, label='Train Acc')\n",
        "plt.plot(val_acc, label='Val Acc')\n",
        "plt.legend(loc='lower right')\n",
        "plt.title(f'Test Acc: {test_acc}')\n",
        "plt.xlabel(\"epoch\")\n",
        "plt.ylabel(\"accuracy\")\n",
        "plt.show()"
      ]
    }
  ],
  "metadata": {
    "colab": {
      "provenance": []
    },
    "kernelspec": {
      "display_name": "Python 3",
      "name": "python3"
    },
    "language_info": {
      "name": "python"
    }
  },
  "nbformat": 4,
  "nbformat_minor": 0
}
