{
  "cells": [
    {
      "cell_type": "code",
      "execution_count": 65,
      "metadata": {
        "id": "cqHHKnXq4HRE"
      },
      "outputs": [],
      "source": [
        "import numpy as np\n",
        "import pandas as pd\n",
        "\n",
        "np.set_printoptions(precision=2)"
      ]
    },
    {
      "cell_type": "code",
      "execution_count": 66,
      "metadata": {
        "colab": {
          "base_uri": "https://localhost:8080/"
        },
        "id": "v_dUjnKS4haI",
        "outputId": "f5f0d708-b223-47da-bb75-f23cfaea6f72"
      },
      "outputs": [
        {
          "name": "stdout",
          "output_type": "stream",
          "text": [
            "/usr/local/lib/python3.10/dist-packages/gdown/cli.py:121: FutureWarning: Option `--id` was deprecated in version 4.3.1 and will be removed in 5.0. You don't need to pass it anymore to use a file ID.\n",
            "  warnings.warn(\n",
            "Downloading...\n",
            "From: https://drive.google.com/uc?id=1H4BoLWR9xf3oNCAeM1t1y_TeWTwznUfF\n",
            "To: /content/dataset.csv\n",
            "100% 90.3k/90.3k [00:00<00:00, 102MB/s]\n"
          ]
        }
      ],
      "source": [
        "!gdown --id '1H4BoLWR9xf3oNCAeM1t1y_TeWTwznUfF' --output dataset.csv\n",
        "points = pd.read_csv('dataset.csv')\n",
        "points = np.array(points)"
      ]
    },
    {
      "cell_type": "code",
      "execution_count": 67,
      "metadata": {
        "id": "pbOUypUu4Dye"
      },
      "outputs": [],
      "source": [
        "# Initialize centroids randomly\n",
        "\n",
        "K = 3\n",
        "\n",
        "def init(K):\n",
        "\n",
        "    centroids = points.copy()\n",
        "    np.random.shuffle(centroids)\n",
        "    centroids = centroids[:K]\n",
        "\n",
        "    return centroids\n",
        "\n",
        "centroids = init(K)"
      ]
    },
    {
      "cell_type": "code",
      "execution_count": 68,
      "metadata": {
        "colab": {
          "base_uri": "https://localhost:8080/"
        },
        "id": "-zjiSuMT40qu",
        "outputId": "ac34e5a7-862d-49e1-8da4-10ae48c8c5dd"
      },
      "outputs": [
        {
          "name": "stdout",
          "output_type": "stream",
          "text": [
            "[[7.89e+00 5.72e-01 2.76e-01 3.23e+00 8.84e-02 2.62e+01 1.09e+02 9.97e-01\n",
            "  3.29e+00 6.52e-01 1.00e+01]\n",
            " [8.47e+00 5.20e-01 2.69e-01 2.36e+00 8.46e-02 9.00e+00 2.24e+01 9.97e-01\n",
            "  3.31e+00 6.47e-01 1.06e+01]\n",
            " [8.29e+00 5.21e-01 2.72e-01 2.50e+00 9.13e-02 2.16e+01 5.49e+01 9.97e-01\n",
            "  3.32e+00 6.77e-01 1.04e+01]]\n"
          ]
        }
      ],
      "source": [
        "max_iters = 100\n",
        "\n",
        "for _ in range(max_iters):\n",
        "\n",
        "    # Assign each data point to the nearest centroid based on Euclidean distances\n",
        "    distances = np.sqrt(((points - centroids[:, np.newaxis])**2).sum(axis=2))\n",
        "    cluster_assignment = np.argmin(distances, axis=0)\n",
        "\n",
        "    # Update centroids based on the mean of the assigned data points\n",
        "    for j in range(K):\n",
        "        centroids[j] = np.mean(points[cluster_assignment == j], axis=0)\n",
        "\n",
        "    # Check for convergence if the centroids no longer change\n",
        "    if _ > 0 and np.all(centroids == old_centroids):\n",
        "        break\n",
        "\n",
        "    old_centroids = centroids.copy()\n",
        "\n",
        "print(centroids)"
      ]
    }
  ],
  "metadata": {
    "colab": {
      "provenance": []
    },
    "kernelspec": {
      "display_name": "Python 3",
      "name": "python3"
    },
    "language_info": {
      "name": "python"
    }
  },
  "nbformat": 4,
  "nbformat_minor": 0
}
